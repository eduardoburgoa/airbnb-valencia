{
 "cells": [
  {
   "cell_type": "markdown",
   "metadata": {},
   "source": [
    "# Valencia Airbnb listings Analysis\n",
    "## by Eduardo Burgoa\n"
   ]
  },
  {
   "cell_type": "markdown",
   "metadata": {},
   "source": [
    "## Businesse Understanding\n",
    "The purpose of the analysis is to gain more understanding of the characteristics of Airbnb offer in the city of Valencia. I am focusing on answering the following questions:\n",
    "\n",
    "- What neighbourhoods have highest average Airbnb price listings in the city of Valencia?\n",
    "- What neighbourhoods have greater proportion of listings with multiple listing-owners?\n",
    "- What factors are related to price of Airbnb in house listings?\n",
    "\n"
   ]
  },
  {
   "cell_type": "markdown",
   "metadata": {},
   "source": [
    "## Data understanding \n",
    "This dataset includes 7233 Airbnb apartments in the city of Valencia updated on September 30th of 2019. This dataset has been colleted by Murray Cox from public information in Airbnb web page anonimazing any personal data. The purpose of this data collection work is adding data to key metrics so anyone can analyse how Airbnb is being used to compete with the residential housing market.\n",
    "\n",
    "Let's explore the variables included in the dataset."
   ]
  },
  {
   "cell_type": "code",
   "execution_count": 3,
   "metadata": {},
   "outputs": [],
   "source": [
    "# import all packages and set plots to be embedded inline\n",
    "import numpy as np\n",
    "import pandas as pd\n",
    "import matplotlib.pyplot as plt\n",
    "import seaborn as sb\n",
    "\n",
    "%matplotlib inline\n",
    "\n",
    "# suppress warnings from final output\n",
    "import warnings\n",
    "warnings.simplefilter(\"ignore\")"
   ]
  },
  {
   "cell_type": "code",
   "execution_count": 4,
   "metadata": {},
   "outputs": [],
   "source": [
    "# Import Data\n",
    "df_listings = pd.read_csv('listings.csv')\n",
    "df_neighbourhoods = pd.read_csv('neighbourhoods.csv')\n"
   ]
  },
  {
   "cell_type": "code",
   "execution_count": 5,
   "metadata": {
    "scrolled": false
   },
   "outputs": [
    {
     "name": "stdout",
     "output_type": "stream",
     "text": [
      "Listings\n",
      "<class 'pandas.core.frame.DataFrame'>\n",
      "RangeIndex: 7233 entries, 0 to 7232\n",
      "Data columns (total 106 columns):\n",
      "id                                              7233 non-null int64\n",
      "listing_url                                     7233 non-null object\n",
      "scrape_id                                       7233 non-null int64\n",
      "last_scraped                                    7233 non-null object\n",
      "name                                            7233 non-null object\n",
      "summary                                         6897 non-null object\n",
      "space                                           5412 non-null object\n",
      "description                                     7041 non-null object\n",
      "experiences_offered                             7233 non-null object\n",
      "neighborhood_overview                           4874 non-null object\n",
      "notes                                           3328 non-null object\n",
      "transit                                         4523 non-null object\n",
      "access                                          3702 non-null object\n",
      "interaction                                     4325 non-null object\n",
      "house_rules                                     4672 non-null object\n",
      "thumbnail_url                                   0 non-null float64\n",
      "medium_url                                      0 non-null float64\n",
      "picture_url                                     7233 non-null object\n",
      "xl_picture_url                                  0 non-null float64\n",
      "host_id                                         7233 non-null int64\n",
      "host_url                                        7233 non-null object\n",
      "host_name                                       7231 non-null object\n",
      "host_since                                      7231 non-null object\n",
      "host_location                                   7217 non-null object\n",
      "host_about                                      4036 non-null object\n",
      "host_response_time                              6658 non-null object\n",
      "host_response_rate                              6658 non-null object\n",
      "host_acceptance_rate                            0 non-null float64\n",
      "host_is_superhost                               7231 non-null object\n",
      "host_thumbnail_url                              7231 non-null object\n",
      "host_picture_url                                7231 non-null object\n",
      "host_neighbourhood                              4968 non-null object\n",
      "host_listings_count                             7231 non-null float64\n",
      "host_total_listings_count                       7231 non-null float64\n",
      "host_verifications                              7233 non-null object\n",
      "host_has_profile_pic                            7231 non-null object\n",
      "host_identity_verified                          7231 non-null object\n",
      "street                                          7233 non-null object\n",
      "neighbourhood                                   7057 non-null object\n",
      "neighbourhood_cleansed                          7233 non-null object\n",
      "neighbourhood_group_cleansed                    7233 non-null object\n",
      "city                                            7231 non-null object\n",
      "state                                           7093 non-null object\n",
      "zipcode                                         7047 non-null object\n",
      "market                                          7230 non-null object\n",
      "smart_location                                  7233 non-null object\n",
      "country_code                                    7233 non-null object\n",
      "country                                         7233 non-null object\n",
      "latitude                                        7233 non-null float64\n",
      "longitude                                       7233 non-null float64\n",
      "is_location_exact                               7233 non-null object\n",
      "property_type                                   7233 non-null object\n",
      "room_type                                       7233 non-null object\n",
      "accommodates                                    7233 non-null int64\n",
      "bathrooms                                       7227 non-null float64\n",
      "bedrooms                                        7227 non-null float64\n",
      "beds                                            7224 non-null float64\n",
      "bed_type                                        7233 non-null object\n",
      "amenities                                       7233 non-null object\n",
      "square_feet                                     115 non-null float64\n",
      "price                                           7233 non-null object\n",
      "weekly_price                                    527 non-null object\n",
      "monthly_price                                   489 non-null object\n",
      "security_deposit                                5184 non-null object\n",
      "cleaning_fee                                    5774 non-null object\n",
      "guests_included                                 7233 non-null int64\n",
      "extra_people                                    7233 non-null object\n",
      "minimum_nights                                  7233 non-null int64\n",
      "maximum_nights                                  7233 non-null int64\n",
      "minimum_minimum_nights                          7233 non-null int64\n",
      "maximum_minimum_nights                          7233 non-null int64\n",
      "minimum_maximum_nights                          7233 non-null int64\n",
      "maximum_maximum_nights                          7233 non-null int64\n",
      "minimum_nights_avg_ntm                          7233 non-null float64\n",
      "maximum_nights_avg_ntm                          7233 non-null float64\n",
      "calendar_updated                                7233 non-null object\n",
      "has_availability                                7233 non-null object\n",
      "availability_30                                 7233 non-null int64\n",
      "availability_60                                 7233 non-null int64\n",
      "availability_90                                 7233 non-null int64\n",
      "availability_365                                7233 non-null int64\n",
      "calendar_last_scraped                           7233 non-null object\n",
      "number_of_reviews                               7233 non-null int64\n",
      "number_of_reviews_ltm                           7233 non-null int64\n",
      "first_review                                    6348 non-null object\n",
      "last_review                                     6348 non-null object\n",
      "review_scores_rating                            6269 non-null float64\n",
      "review_scores_accuracy                          6267 non-null float64\n",
      "review_scores_cleanliness                       6269 non-null float64\n",
      "review_scores_checkin                           6266 non-null float64\n",
      "review_scores_communication                     6267 non-null float64\n",
      "review_scores_location                          6267 non-null float64\n",
      "review_scores_value                             6266 non-null float64\n",
      "requires_license                                7233 non-null object\n",
      "license                                         2375 non-null object\n",
      "jurisdiction_names                              0 non-null float64\n",
      "instant_bookable                                7233 non-null object\n",
      "is_business_travel_ready                        7233 non-null object\n",
      "cancellation_policy                             7233 non-null object\n",
      "require_guest_profile_picture                   7233 non-null object\n",
      "require_guest_phone_verification                7233 non-null object\n",
      "calculated_host_listings_count                  7233 non-null int64\n",
      "calculated_host_listings_count_entire_homes     7233 non-null int64\n",
      "calculated_host_listings_count_private_rooms    7233 non-null int64\n",
      "calculated_host_listings_count_shared_rooms     7233 non-null int64\n",
      "reviews_per_month                               6348 non-null float64\n",
      "dtypes: float64(23), int64(21), object(62)\n",
      "memory usage: 5.8+ MB\n",
      "None\n",
      "Neighbourhoods\n",
      "<class 'pandas.core.frame.DataFrame'>\n",
      "RangeIndex: 88 entries, 0 to 87\n",
      "Data columns (total 2 columns):\n",
      "neighbourhood_group    88 non-null object\n",
      "neighbourhood          88 non-null object\n",
      "dtypes: object(2)\n",
      "memory usage: 1.5+ KB\n",
      "None\n"
     ]
    }
   ],
   "source": [
    "print(\"Listings\")\n",
    "print(df_listings.info(max_cols=106))\n",
    "print(\"Neighbourhoods\")\n",
    "print(df_neighbourhoods.info())"
   ]
  },
  {
   "cell_type": "code",
   "execution_count": 12,
   "metadata": {},
   "outputs": [
    {
     "data": {
      "text/html": [
       "<div>\n",
       "<style scoped>\n",
       "    .dataframe tbody tr th:only-of-type {\n",
       "        vertical-align: middle;\n",
       "    }\n",
       "\n",
       "    .dataframe tbody tr th {\n",
       "        vertical-align: top;\n",
       "    }\n",
       "\n",
       "    .dataframe thead th {\n",
       "        text-align: right;\n",
       "    }\n",
       "</style>\n",
       "<table border=\"1\" class=\"dataframe\">\n",
       "  <thead>\n",
       "    <tr style=\"text-align: right;\">\n",
       "      <th></th>\n",
       "      <th>name</th>\n",
       "      <th>neighbourhood</th>\n",
       "      <th>neighbourhood_cleansed</th>\n",
       "      <th>neighbourhood_group_cleansed</th>\n",
       "      <th>price</th>\n",
       "      <th>monthly_price</th>\n",
       "      <th>host_total_listings_count</th>\n",
       "    </tr>\n",
       "  </thead>\n",
       "  <tbody>\n",
       "    <tr>\n",
       "      <th>0</th>\n",
       "      <td>VALENCIA HISTORIC HOUSE  50M BEACH</td>\n",
       "      <td>Poblados Marítimos</td>\n",
       "      <td>LA MALVA-ROSA</td>\n",
       "      <td>POBLATS MARITIMS</td>\n",
       "      <td>$150.00</td>\n",
       "      <td>NaN</td>\n",
       "      <td>3.0</td>\n",
       "    </tr>\n",
       "    <tr>\n",
       "      <th>1</th>\n",
       "      <td>Valencia: El Saler Beach and Albufera Lake</td>\n",
       "      <td>NaN</td>\n",
       "      <td>EL SALER</td>\n",
       "      <td>POBLATS DEL SUD</td>\n",
       "      <td>$100.00</td>\n",
       "      <td>$1,000.00</td>\n",
       "      <td>1.0</td>\n",
       "    </tr>\n",
       "    <tr>\n",
       "      <th>2</th>\n",
       "      <td>beautiful apartment wifi</td>\n",
       "      <td>La Saïdia</td>\n",
       "      <td>MORVEDRE</td>\n",
       "      <td>LA SAIDIA</td>\n",
       "      <td>$45.00</td>\n",
       "      <td>$870.00</td>\n",
       "      <td>2.0</td>\n",
       "    </tr>\n",
       "    <tr>\n",
       "      <th>3</th>\n",
       "      <td>Delight in city center</td>\n",
       "      <td>Ciutat Vella</td>\n",
       "      <td>LA SEU</td>\n",
       "      <td>CIUTAT VELLA</td>\n",
       "      <td>$100.00</td>\n",
       "      <td>$700.00</td>\n",
       "      <td>1.0</td>\n",
       "    </tr>\n",
       "    <tr>\n",
       "      <th>4</th>\n",
       "      <td>Modern and bright Duplex 3 Bedrooms Center Wi-Fi</td>\n",
       "      <td>Ciutat Vella</td>\n",
       "      <td>EL CARME</td>\n",
       "      <td>CIUTAT VELLA</td>\n",
       "      <td>$134.00</td>\n",
       "      <td>NaN</td>\n",
       "      <td>6.0</td>\n",
       "    </tr>\n",
       "  </tbody>\n",
       "</table>\n",
       "</div>"
      ],
      "text/plain": [
       "                                               name       neighbourhood  \\\n",
       "0                VALENCIA HISTORIC HOUSE  50M BEACH  Poblados Marítimos   \n",
       "1        Valencia: El Saler Beach and Albufera Lake                 NaN   \n",
       "2                          beautiful apartment wifi           La Saïdia   \n",
       "3                            Delight in city center        Ciutat Vella   \n",
       "4  Modern and bright Duplex 3 Bedrooms Center Wi-Fi        Ciutat Vella   \n",
       "\n",
       "  neighbourhood_cleansed neighbourhood_group_cleansed    price monthly_price  \\\n",
       "0          LA MALVA-ROSA             POBLATS MARITIMS  $150.00           NaN   \n",
       "1               EL SALER              POBLATS DEL SUD  $100.00     $1,000.00   \n",
       "2               MORVEDRE                    LA SAIDIA   $45.00       $870.00   \n",
       "3                 LA SEU                 CIUTAT VELLA  $100.00       $700.00   \n",
       "4               EL CARME                 CIUTAT VELLA  $134.00           NaN   \n",
       "\n",
       "   host_total_listings_count  \n",
       "0                        3.0  \n",
       "1                        1.0  \n",
       "2                        2.0  \n",
       "3                        1.0  \n",
       "4                        6.0  "
      ]
     },
     "execution_count": 12,
     "metadata": {},
     "output_type": "execute_result"
    }
   ],
   "source": [
    "df_listings[['name', 'neighbourhood', 'neighbourhood_cleansed', 'neighbourhood_group_cleansed', 'price', 'monthly_price','host_total_listings_count']].head()"
   ]
  },
  {
   "cell_type": "code",
   "execution_count": 7,
   "metadata": {},
   "outputs": [
    {
     "data": {
      "text/html": [
       "<div>\n",
       "<style scoped>\n",
       "    .dataframe tbody tr th:only-of-type {\n",
       "        vertical-align: middle;\n",
       "    }\n",
       "\n",
       "    .dataframe tbody tr th {\n",
       "        vertical-align: top;\n",
       "    }\n",
       "\n",
       "    .dataframe thead th {\n",
       "        text-align: right;\n",
       "    }\n",
       "</style>\n",
       "<table border=\"1\" class=\"dataframe\">\n",
       "  <thead>\n",
       "    <tr style=\"text-align: right;\">\n",
       "      <th></th>\n",
       "      <th>neighbourhood_group</th>\n",
       "      <th>neighbourhood</th>\n",
       "    </tr>\n",
       "  </thead>\n",
       "  <tbody>\n",
       "    <tr>\n",
       "      <th>0</th>\n",
       "      <td>ALGIROS</td>\n",
       "      <td>CIUTAT JARDI</td>\n",
       "    </tr>\n",
       "    <tr>\n",
       "      <th>1</th>\n",
       "      <td>ALGIROS</td>\n",
       "      <td>LA CARRASCA</td>\n",
       "    </tr>\n",
       "    <tr>\n",
       "      <th>2</th>\n",
       "      <td>ALGIROS</td>\n",
       "      <td>L'AMISTAT</td>\n",
       "    </tr>\n",
       "    <tr>\n",
       "      <th>3</th>\n",
       "      <td>ALGIROS</td>\n",
       "      <td>LA VEGA BAIXA</td>\n",
       "    </tr>\n",
       "    <tr>\n",
       "      <th>4</th>\n",
       "      <td>ALGIROS</td>\n",
       "      <td>L'ILLA PERDUDA</td>\n",
       "    </tr>\n",
       "  </tbody>\n",
       "</table>\n",
       "</div>"
      ],
      "text/plain": [
       "  neighbourhood_group   neighbourhood\n",
       "0             ALGIROS    CIUTAT JARDI\n",
       "1             ALGIROS     LA CARRASCA\n",
       "2             ALGIROS       L'AMISTAT\n",
       "3             ALGIROS   LA VEGA BAIXA\n",
       "4             ALGIROS  L'ILLA PERDUDA"
      ]
     },
     "execution_count": 7,
     "metadata": {},
     "output_type": "execute_result"
    }
   ],
   "source": [
    "df_neighbourhoods.head()"
   ]
  },
  {
   "cell_type": "markdown",
   "metadata": {},
   "source": [
    "The only data we need to answer our questions of interest is `listings.csv` as neighbourhoods names are also included in it."
   ]
  },
  {
   "cell_type": "markdown",
   "metadata": {},
   "source": [
    "## Data Preparation\n",
    "\n",
    "#### Assesment\n",
    "- `price` is a string and should be numeric."
   ]
  },
  {
   "cell_type": "markdown",
   "metadata": {},
   "source": [
    "#### Cleaning Price"
   ]
  },
  {
   "cell_type": "code",
   "execution_count": 16,
   "metadata": {},
   "outputs": [],
   "source": [
    "df_listings['price'] = df_listings['price'].str.replace('$', '')\n",
    "df_listings['price'] = df_listings['price'].str.replace(',', '')\n",
    "df_listings['price'] = pd.to_numeric(df_listings['price'])"
   ]
  },
  {
   "cell_type": "code",
   "execution_count": 41,
   "metadata": {},
   "outputs": [
    {
     "data": {
      "image/png": "[encoded data removed]",
      "text/plain": [
       "<Figure size 864x504 with 1 Axes>"
      ]
     },
     "metadata": {
      "needs_background": "light"
     },
     "output_type": "display_data"
    }
   ],
   "source": [
    "neigbourhoods_by_price = df_listings.groupby('neighbourhood_group_cleansed')['price'].mean()\n",
    "neigbourhoods_by_price = neigbourhoods_by_price.nlargest(len(neigbourhoods_by_price))\n",
    "\n",
    "neigbourhoods_by_price.plot('bar', figsize=(12,7))\n",
    "plt.title('Neighbourhoods by average Airbnb listing price')\n",
    "plt.xlabel('Neighbourhood')\n",
    "plt.ylabel('Average price ($)')\n",
    "plt.grid();"
   ]
  },
  {
   "cell_type": "markdown",
   "metadata": {},
   "source": [
    "## Model"
   ]
  },
  {
   "cell_type": "markdown",
   "metadata": {},
   "source": [
    "## Evaluation"
   ]
  },
  {
   "cell_type": "markdown",
   "metadata": {},
   "source": [
    "## Deployment"
   ]
  }
 ],
 "metadata": {
  "kernelspec": {
   "display_name": "Python 3",
   "language": "python",
   "name": "python3"
  },
  "language_info": {
   "codemirror_mode": {
    "name": "ipython",
    "version": 3
   },
   "file_extension": ".py",
   "mimetype": "text/x-python",
   "name": "python",
   "nbconvert_exporter": "python",
   "pygments_lexer": "ipython3",
   "version": "3.7.3"
  }
 },
 "nbformat": 4,
 "nbformat_minor": 2
}
