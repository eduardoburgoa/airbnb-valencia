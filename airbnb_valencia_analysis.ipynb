{
 "cells": [
  {
   "cell_type": "markdown",
   "metadata": {},
   "source": [
    "# Valencia Airbnb listings Analysis\n",
    "## by Eduardo Burgoa\n"
   ]
  },
  {
   "cell_type": "markdown",
   "metadata": {},
   "source": [
    "## Businesse Understanding\n",
    "The purpose of the analysis is to gain more understanding of the characteristics of Airbnb offer in the city of Valencia. I am focusing on answering the following questions:\n",
    "\n",
    "- What neighbourhoods have highest average Airbnb price listings in the city of Valencia?\n",
    "- What neighbourhoods have greater proportion of listings with multiple listing-owners?\n",
    "- What factors are related to price of Airbnb in house listings?\n",
    "\n"
   ]
  },
  {
   "cell_type": "markdown",
   "metadata": {},
   "source": [
    "## Data understanding \n",
    "This dataset includes 7233 Airbnb apartments in the city of Valencia updated on September 30th of 2019. This dataset has been colleted by Murray Cox from public information in Airbnb web page anonimazing any personal data. The purpose of this data collection work is adding data to key metrics so anyone can analyse how Airbnb is being used to compete with the residential housing market.\n",
    "\n",
    "Let's explore the variables included in the dataset."
   ]
  },
  {
   "cell_type": "code",
   "execution_count": 1,
   "metadata": {},
   "outputs": [],
   "source": [
    "# import all packages and set plots to be embedded inline\n",
    "import numpy as np\n",
    "import pandas as pd\n",
    "import matplotlib.pyplot as plt\n",
    "import seaborn as sb\n",
    "from sklearn.linear_model import LinearRegression\n",
    "from sklearn.model_selection import train_test_split\n",
    "from sklearn.metrics import r2_score, mean_squared_error\n",
    "from utils import coef_weights, find_optimal_lm_mod\n",
    "%matplotlib inline\n",
    "\n",
    "# suppress warnings from final output\n",
    "import warnings\n",
    "warnings.simplefilter(\"ignore\")"
   ]
  },
  {
   "cell_type": "code",
   "execution_count": 2,
   "metadata": {},
   "outputs": [],
   "source": [
    "# Import Data\n",
    "df_listings = pd.read_csv('listings.csv')\n",
    "df_neighbourhoods = pd.read_csv('neighbourhoods.csv')\n"
   ]
  },
  {
   "cell_type": "code",
   "execution_count": 3,
   "metadata": {
    "scrolled": false
   },
   "outputs": [
    {
     "name": "stdout",
     "output_type": "stream",
     "text": [
      "Listings\n",
      "<class 'pandas.core.frame.DataFrame'>\n",
      "RangeIndex: 7233 entries, 0 to 7232\n",
      "Data columns (total 106 columns):\n",
      "id                                              7233 non-null int64\n",
      "listing_url                                     7233 non-null object\n",
      "scrape_id                                       7233 non-null int64\n",
      "last_scraped                                    7233 non-null object\n",
      "name                                            7233 non-null object\n",
      "summary                                         6897 non-null object\n",
      "space                                           5412 non-null object\n",
      "description                                     7041 non-null object\n",
      "experiences_offered                             7233 non-null object\n",
      "neighborhood_overview                           4874 non-null object\n",
      "notes                                           3328 non-null object\n",
      "transit                                         4523 non-null object\n",
      "access                                          3702 non-null object\n",
      "interaction                                     4325 non-null object\n",
      "house_rules                                     4672 non-null object\n",
      "thumbnail_url                                   0 non-null float64\n",
      "medium_url                                      0 non-null float64\n",
      "picture_url                                     7233 non-null object\n",
      "xl_picture_url                                  0 non-null float64\n",
      "host_id                                         7233 non-null int64\n",
      "host_url                                        7233 non-null object\n",
      "host_name                                       7231 non-null object\n",
      "host_since                                      7231 non-null object\n",
      "host_location                                   7217 non-null object\n",
      "host_about                                      4036 non-null object\n",
      "host_response_time                              6658 non-null object\n",
      "host_response_rate                              6658 non-null object\n",
      "host_acceptance_rate                            0 non-null float64\n",
      "host_is_superhost                               7231 non-null object\n",
      "host_thumbnail_url                              7231 non-null object\n",
      "host_picture_url                                7231 non-null object\n",
      "host_neighbourhood                              4968 non-null object\n",
      "host_listings_count                             7231 non-null float64\n",
      "host_total_listings_count                       7231 non-null float64\n",
      "host_verifications                              7233 non-null object\n",
      "host_has_profile_pic                            7231 non-null object\n",
      "host_identity_verified                          7231 non-null object\n",
      "street                                          7233 non-null object\n",
      "neighbourhood                                   7057 non-null object\n",
      "neighbourhood_cleansed                          7233 non-null object\n",
      "neighbourhood_group_cleansed                    7233 non-null object\n",
      "city                                            7231 non-null object\n",
      "state                                           7093 non-null object\n",
      "zipcode                                         7047 non-null object\n",
      "market                                          7230 non-null object\n",
      "smart_location                                  7233 non-null object\n",
      "country_code                                    7233 non-null object\n",
      "country                                         7233 non-null object\n",
      "latitude                                        7233 non-null float64\n",
      "longitude                                       7233 non-null float64\n",
      "is_location_exact                               7233 non-null object\n",
      "property_type                                   7233 non-null object\n",
      "room_type                                       7233 non-null object\n",
      "accommodates                                    7233 non-null int64\n",
      "bathrooms                                       7227 non-null float64\n",
      "bedrooms                                        7227 non-null float64\n",
      "beds                                            7224 non-null float64\n",
      "bed_type                                        7233 non-null object\n",
      "amenities                                       7233 non-null object\n",
      "square_feet                                     115 non-null float64\n",
      "price                                           7233 non-null object\n",
      "weekly_price                                    527 non-null object\n",
      "monthly_price                                   489 non-null object\n",
      "security_deposit                                5184 non-null object\n",
      "cleaning_fee                                    5774 non-null object\n",
      "guests_included                                 7233 non-null int64\n",
      "extra_people                                    7233 non-null object\n",
      "minimum_nights                                  7233 non-null int64\n",
      "maximum_nights                                  7233 non-null int64\n",
      "minimum_minimum_nights                          7233 non-null int64\n",
      "maximum_minimum_nights                          7233 non-null int64\n",
      "minimum_maximum_nights                          7233 non-null int64\n",
      "maximum_maximum_nights                          7233 non-null int64\n",
      "minimum_nights_avg_ntm                          7233 non-null float64\n",
      "maximum_nights_avg_ntm                          7233 non-null float64\n",
      "calendar_updated                                7233 non-null object\n",
      "has_availability                                7233 non-null object\n",
      "availability_30                                 7233 non-null int64\n",
      "availability_60                                 7233 non-null int64\n",
      "availability_90                                 7233 non-null int64\n",
      "availability_365                                7233 non-null int64\n",
      "calendar_last_scraped                           7233 non-null object\n",
      "number_of_reviews                               7233 non-null int64\n",
      "number_of_reviews_ltm                           7233 non-null int64\n",
      "first_review                                    6348 non-null object\n",
      "last_review                                     6348 non-null object\n",
      "review_scores_rating                            6269 non-null float64\n",
      "review_scores_accuracy                          6267 non-null float64\n",
      "review_scores_cleanliness                       6269 non-null float64\n",
      "review_scores_checkin                           6266 non-null float64\n",
      "review_scores_communication                     6267 non-null float64\n",
      "review_scores_location                          6267 non-null float64\n",
      "review_scores_value                             6266 non-null float64\n",
      "requires_license                                7233 non-null object\n",
      "license                                         2375 non-null object\n",
      "jurisdiction_names                              0 non-null float64\n",
      "instant_bookable                                7233 non-null object\n",
      "is_business_travel_ready                        7233 non-null object\n",
      "cancellation_policy                             7233 non-null object\n",
      "require_guest_profile_picture                   7233 non-null object\n",
      "require_guest_phone_verification                7233 non-null object\n",
      "calculated_host_listings_count                  7233 non-null int64\n",
      "calculated_host_listings_count_entire_homes     7233 non-null int64\n",
      "calculated_host_listings_count_private_rooms    7233 non-null int64\n",
      "calculated_host_listings_count_shared_rooms     7233 non-null int64\n",
      "reviews_per_month                               6348 non-null float64\n",
      "dtypes: float64(23), int64(21), object(62)\n",
      "memory usage: 5.8+ MB\n",
      "None\n",
      "Neighbourhoods\n",
      "<class 'pandas.core.frame.DataFrame'>\n",
      "RangeIndex: 88 entries, 0 to 87\n",
      "Data columns (total 2 columns):\n",
      "neighbourhood_group    88 non-null object\n",
      "neighbourhood          88 non-null object\n",
      "dtypes: object(2)\n",
      "memory usage: 1.5+ KB\n",
      "None\n"
     ]
    }
   ],
   "source": [
    "print(\"Listings\")\n",
    "print(df_listings.info(max_cols=106))\n",
    "print(\"Neighbourhoods\")\n",
    "print(df_neighbourhoods.info())"
   ]
  },
  {
   "cell_type": "code",
   "execution_count": 4,
   "metadata": {},
   "outputs": [
    {
     "data": {
      "text/html": [
       "<div>\n",
       "<style scoped>\n",
       "    .dataframe tbody tr th:only-of-type {\n",
       "        vertical-align: middle;\n",
       "    }\n",
       "\n",
       "    .dataframe tbody tr th {\n",
       "        vertical-align: top;\n",
       "    }\n",
       "\n",
       "    .dataframe thead th {\n",
       "        text-align: right;\n",
       "    }\n",
       "</style>\n",
       "<table border=\"1\" class=\"dataframe\">\n",
       "  <thead>\n",
       "    <tr style=\"text-align: right;\">\n",
       "      <th></th>\n",
       "      <th>name</th>\n",
       "      <th>space</th>\n",
       "      <th>experiences_offered</th>\n",
       "      <th>neighbourhood_cleansed</th>\n",
       "      <th>neighbourhood_group_cleansed</th>\n",
       "      <th>price</th>\n",
       "      <th>monthly_price</th>\n",
       "      <th>host_total_listings_count</th>\n",
       "    </tr>\n",
       "  </thead>\n",
       "  <tbody>\n",
       "    <tr>\n",
       "      <th>0</th>\n",
       "      <td>VALENCIA HISTORIC HOUSE  50M BEACH</td>\n",
       "      <td>1920 HISTORIC house passed down by generations...</td>\n",
       "      <td>none</td>\n",
       "      <td>LA MALVA-ROSA</td>\n",
       "      <td>POBLATS MARITIMS</td>\n",
       "      <td>$150.00</td>\n",
       "      <td>NaN</td>\n",
       "      <td>3.0</td>\n",
       "    </tr>\n",
       "    <tr>\n",
       "      <th>1</th>\n",
       "      <td>Valencia: El Saler Beach and Albufera Lake</td>\n",
       "      <td>Near to the beach, near to the city. Come with...</td>\n",
       "      <td>none</td>\n",
       "      <td>EL SALER</td>\n",
       "      <td>POBLATS DEL SUD</td>\n",
       "      <td>$100.00</td>\n",
       "      <td>$1,000.00</td>\n",
       "      <td>1.0</td>\n",
       "    </tr>\n",
       "    <tr>\n",
       "      <th>2</th>\n",
       "      <td>beautiful apartment wifi</td>\n",
       "      <td>Hello everybody and thank you for your interes...</td>\n",
       "      <td>none</td>\n",
       "      <td>MORVEDRE</td>\n",
       "      <td>LA SAIDIA</td>\n",
       "      <td>$45.00</td>\n",
       "      <td>$870.00</td>\n",
       "      <td>2.0</td>\n",
       "    </tr>\n",
       "    <tr>\n",
       "      <th>3</th>\n",
       "      <td>Delight in city center</td>\n",
       "      <td>Hello everybody and thank you very much for sh...</td>\n",
       "      <td>none</td>\n",
       "      <td>LA SEU</td>\n",
       "      <td>CIUTAT VELLA</td>\n",
       "      <td>$100.00</td>\n",
       "      <td>$700.00</td>\n",
       "      <td>1.0</td>\n",
       "    </tr>\n",
       "    <tr>\n",
       "      <th>4</th>\n",
       "      <td>Modern and bright Duplex 3 Bedrooms Center Wi-Fi</td>\n",
       "      <td>Located right in the Historical Centre you can...</td>\n",
       "      <td>none</td>\n",
       "      <td>EL CARME</td>\n",
       "      <td>CIUTAT VELLA</td>\n",
       "      <td>$134.00</td>\n",
       "      <td>NaN</td>\n",
       "      <td>6.0</td>\n",
       "    </tr>\n",
       "  </tbody>\n",
       "</table>\n",
       "</div>"
      ],
      "text/plain": [
       "                                               name  \\\n",
       "0                VALENCIA HISTORIC HOUSE  50M BEACH   \n",
       "1        Valencia: El Saler Beach and Albufera Lake   \n",
       "2                          beautiful apartment wifi   \n",
       "3                            Delight in city center   \n",
       "4  Modern and bright Duplex 3 Bedrooms Center Wi-Fi   \n",
       "\n",
       "                                               space experiences_offered  \\\n",
       "0  1920 HISTORIC house passed down by generations...                none   \n",
       "1  Near to the beach, near to the city. Come with...                none   \n",
       "2  Hello everybody and thank you for your interes...                none   \n",
       "3  Hello everybody and thank you very much for sh...                none   \n",
       "4  Located right in the Historical Centre you can...                none   \n",
       "\n",
       "  neighbourhood_cleansed neighbourhood_group_cleansed    price monthly_price  \\\n",
       "0          LA MALVA-ROSA             POBLATS MARITIMS  $150.00           NaN   \n",
       "1               EL SALER              POBLATS DEL SUD  $100.00     $1,000.00   \n",
       "2               MORVEDRE                    LA SAIDIA   $45.00       $870.00   \n",
       "3                 LA SEU                 CIUTAT VELLA  $100.00       $700.00   \n",
       "4               EL CARME                 CIUTAT VELLA  $134.00           NaN   \n",
       "\n",
       "   host_total_listings_count  \n",
       "0                        3.0  \n",
       "1                        1.0  \n",
       "2                        2.0  \n",
       "3                        1.0  \n",
       "4                        6.0  "
      ]
     },
     "execution_count": 4,
     "metadata": {},
     "output_type": "execute_result"
    }
   ],
   "source": [
    "df_listings[['name', 'space','experiences_offered', 'neighbourhood_cleansed', 'neighbourhood_group_cleansed', 'price', 'monthly_price','host_total_listings_count']].head()"
   ]
  },
  {
   "cell_type": "code",
   "execution_count": 5,
   "metadata": {},
   "outputs": [
    {
     "data": {
      "text/html": [
       "<div>\n",
       "<style scoped>\n",
       "    .dataframe tbody tr th:only-of-type {\n",
       "        vertical-align: middle;\n",
       "    }\n",
       "\n",
       "    .dataframe tbody tr th {\n",
       "        vertical-align: top;\n",
       "    }\n",
       "\n",
       "    .dataframe thead th {\n",
       "        text-align: right;\n",
       "    }\n",
       "</style>\n",
       "<table border=\"1\" class=\"dataframe\">\n",
       "  <thead>\n",
       "    <tr style=\"text-align: right;\">\n",
       "      <th></th>\n",
       "      <th>neighbourhood_group</th>\n",
       "      <th>neighbourhood</th>\n",
       "    </tr>\n",
       "  </thead>\n",
       "  <tbody>\n",
       "    <tr>\n",
       "      <th>0</th>\n",
       "      <td>ALGIROS</td>\n",
       "      <td>CIUTAT JARDI</td>\n",
       "    </tr>\n",
       "    <tr>\n",
       "      <th>1</th>\n",
       "      <td>ALGIROS</td>\n",
       "      <td>LA CARRASCA</td>\n",
       "    </tr>\n",
       "    <tr>\n",
       "      <th>2</th>\n",
       "      <td>ALGIROS</td>\n",
       "      <td>L'AMISTAT</td>\n",
       "    </tr>\n",
       "    <tr>\n",
       "      <th>3</th>\n",
       "      <td>ALGIROS</td>\n",
       "      <td>LA VEGA BAIXA</td>\n",
       "    </tr>\n",
       "    <tr>\n",
       "      <th>4</th>\n",
       "      <td>ALGIROS</td>\n",
       "      <td>L'ILLA PERDUDA</td>\n",
       "    </tr>\n",
       "  </tbody>\n",
       "</table>\n",
       "</div>"
      ],
      "text/plain": [
       "  neighbourhood_group   neighbourhood\n",
       "0             ALGIROS    CIUTAT JARDI\n",
       "1             ALGIROS     LA CARRASCA\n",
       "2             ALGIROS       L'AMISTAT\n",
       "3             ALGIROS   LA VEGA BAIXA\n",
       "4             ALGIROS  L'ILLA PERDUDA"
      ]
     },
     "execution_count": 5,
     "metadata": {},
     "output_type": "execute_result"
    }
   ],
   "source": [
    "df_neighbourhoods.head()"
   ]
  },
  {
   "cell_type": "markdown",
   "metadata": {},
   "source": [
    "The only data we need to answer our questions of interest is `listings.csv` as neighbourhoods names are also included in it."
   ]
  },
  {
   "cell_type": "markdown",
   "metadata": {},
   "source": [
    "## Data Preparation\n",
    "\n",
    "### Quality issues\n",
    "- `price` and `extra_people` are strings and should be numeric.\n",
    "\n",
    "- Boolean variables as `host_is_superhost`, `host_identity_verified`, `has_availability`, `requires_license`, `calendar_updated`, `host_has_profile_pic`, `is_location_exact`, `instant_bookable`, `is_business_travel_ready`, `require_guest_phone_verification`, `require_guest_profile_picture` are encoded as string and should be boolean.\n",
    "\n",
    "- There are some columns with less than 10% of values or no values at all as: `host_acceptance_rate`, `square_feet`, `thumbnail_url`, `medium_url`, `xl_picture_url`, `jurisdiction_names`, `montly_price`, `weekly_price`.\n",
    "\n",
    "- There are several columns that are free text and have missing values as: `summary`, `space`,  `description`, `neighborhood_overview`, `notes`, `transit`, `access`, `interaction`, `house_rules`, `host_neighbourhood`, `host_location`, `host_about`, `neighbourhood`, `first_review`, `last_review`, `license`, `state`, `zipcode`.\n",
    "\n",
    "- There are other categorical or numeric columns also with missing values , `host_response_time`, `host_response_rate`, `review_scores_rating`, `review_scores_accuracy`, `review_scores_cleanliness`, `review_scores_checkin`, `review_scores_communication`, `review_scores_location`, `review_scores_value`,  `reviews_per_month`, `security_deposit`, `cleaning_fee`\n",
    "\n",
    "### Preparation for modeling\n",
    "- We have several categorical variables. We should convert them in order to include them in the model.\n"
   ]
  },
  {
   "cell_type": "markdown",
   "metadata": {},
   "source": [
    "#### Cleaning Price"
   ]
  },
  {
   "cell_type": "code",
   "execution_count": 6,
   "metadata": {},
   "outputs": [],
   "source": [
    "def cleaning_prices(df, variable):\n",
    "    df[variable] = df[variable].str.replace('$', '')\n",
    "    df[variable] = df[variable].str.replace(',', '')\n",
    "    df[variable] = pd.to_numeric(df[variable])\n",
    "    return df\n",
    "\n",
    "price_list = ['price', 'extra_people', 'cleaning_fee']\n",
    "\n",
    "\n",
    "for variable in price_list:\n",
    "    df_listings = cleaning_prices(df_listings, variable)\n"
   ]
  },
  {
   "cell_type": "code",
   "execution_count": 7,
   "metadata": {},
   "outputs": [],
   "source": [
    "df_listings['host_response_rate'] = df_listings['host_response_rate'].str.replace('%', '')\n",
    "df_listings['host_response_rate'] = pd.to_numeric(df_listings['host_response_rate'])/100"
   ]
  },
  {
   "cell_type": "markdown",
   "metadata": {},
   "source": [
    "#### Cleaning Boolean variables"
   ]
  },
  {
   "cell_type": "code",
   "execution_count": 8,
   "metadata": {},
   "outputs": [],
   "source": [
    "def cleaning_boolean(df, variable):\n",
    "    df.loc[df[variable] == 'f', variable] = False\n",
    "    df.loc[df[variable] == 't', variable] = True\n",
    "    df[variable] = df[variable].astype('bool')\n",
    "\n",
    "    return df\n",
    "\n",
    "boolean_list = ['host_is_superhost', 'host_identity_verified', 'host_has_profile_pic', 'has_availability', \n",
    "                'requires_license', 'calendar_updated', 'is_location_exact', 'instant_bookable', \n",
    "                'is_business_travel_ready', 'require_guest_phone_verification', 'require_guest_profile_picture']\n",
    "\n",
    "for variable in boolean_list:\n",
    "    df_listings = cleaning_boolean(df_listings, variable)\n"
   ]
  },
  {
   "cell_type": "markdown",
   "metadata": {},
   "source": [
    "#### Cleaning Empty values"
   ]
  },
  {
   "cell_type": "code",
   "execution_count": 9,
   "metadata": {},
   "outputs": [],
   "source": [
    "# Before droping data we'll create a new data frame\n",
    "df_clean = df_listings.copy()\n",
    "\n",
    "# We drop unneded columns\n",
    "df_clean.drop(columns=['id', 'scrape_id', 'host_id',  'latitude', 'longitude', 'host_acceptance_rate', \n",
    "                       'host_thumbnail_url', 'host_picture_url', 'square_feet', 'thumbnail_url', 'medium_url', \n",
    "                       'xl_picture_url', 'host_verifications', 'street', 'jurisdiction_names', 'monthly_price', \n",
    "                       'weekly_price', 'summary', 'space',  'description', 'neighborhood_overview', 'notes', \n",
    "                       'transit', 'access', 'interaction', 'house_rules', 'host_neighbourhood', 'host_location', \n",
    "                       'host_about', 'neighbourhood', 'first_review', 'last_review', 'license', 'security_deposit', \n",
    "                       'state', 'zipcode', 'last_scraped', 'calendar_last_scraped', 'smart_location', \n",
    "                       'listing_url', 'host_url', 'picture_url', 'city', 'country_code', 'city', 'host_since', \n",
    "                       'name', 'amenities', 'host_name'], inplace=True)\n",
    "\n"
   ]
  },
  {
   "cell_type": "code",
   "execution_count": 10,
   "metadata": {},
   "outputs": [],
   "source": [
    "# Fill numeric columns with the mean\n",
    "num_cols = df_clean.select_dtypes(include=['float', 'int']).columns\n",
    "for col in num_cols:\n",
    "    df_clean[col].fillna((df_clean[col].mean()), inplace=True)"
   ]
  },
  {
   "cell_type": "code",
   "execution_count": 20,
   "metadata": {},
   "outputs": [],
   "source": [
    "# Fill categorical columns with the mode\n",
    "cat_cols = df_clean.select_dtypes(include=['object']).columns\n",
    "for col in cat_cols:\n",
    "    df_clean[col].fillna((df_clean[col].mode()[0]), inplace=True)"
   ]
  },
  {
   "cell_type": "code",
   "execution_count": 21,
   "metadata": {},
   "outputs": [
    {
     "name": "stdout",
     "output_type": "stream",
     "text": [
      "<class 'pandas.core.frame.DataFrame'>\n",
      "Int64Index: 7233 entries, 0 to 7232\n",
      "Data columns (total 58 columns):\n",
      "experiences_offered                             7233 non-null object\n",
      "host_response_time                              7233 non-null object\n",
      "host_response_rate                              7233 non-null float64\n",
      "host_is_superhost                               7233 non-null bool\n",
      "host_listings_count                             7233 non-null float64\n",
      "host_total_listings_count                       7233 non-null float64\n",
      "host_has_profile_pic                            7233 non-null bool\n",
      "host_identity_verified                          7233 non-null bool\n",
      "neighbourhood_cleansed                          7233 non-null object\n",
      "neighbourhood_group_cleansed                    7233 non-null object\n",
      "market                                          7233 non-null object\n",
      "country                                         7233 non-null object\n",
      "is_location_exact                               7233 non-null bool\n",
      "property_type                                   7233 non-null object\n",
      "room_type                                       7233 non-null object\n",
      "accommodates                                    7233 non-null int64\n",
      "bathrooms                                       7233 non-null float64\n",
      "bedrooms                                        7233 non-null float64\n",
      "beds                                            7233 non-null float64\n",
      "bed_type                                        7233 non-null object\n",
      "price                                           7233 non-null float64\n",
      "cleaning_fee                                    7233 non-null float64\n",
      "guests_included                                 7233 non-null int64\n",
      "extra_people                                    7233 non-null float64\n",
      "minimum_nights                                  7233 non-null int64\n",
      "maximum_nights                                  7233 non-null int64\n",
      "minimum_minimum_nights                          7233 non-null int64\n",
      "maximum_minimum_nights                          7233 non-null int64\n",
      "minimum_maximum_nights                          7233 non-null int64\n",
      "maximum_maximum_nights                          7233 non-null int64\n",
      "minimum_nights_avg_ntm                          7233 non-null float64\n",
      "maximum_nights_avg_ntm                          7233 non-null float64\n",
      "calendar_updated                                7233 non-null bool\n",
      "has_availability                                7233 non-null bool\n",
      "availability_30                                 7233 non-null int64\n",
      "availability_60                                 7233 non-null int64\n",
      "availability_90                                 7233 non-null int64\n",
      "availability_365                                7233 non-null int64\n",
      "number_of_reviews                               7233 non-null int64\n",
      "number_of_reviews_ltm                           7233 non-null int64\n",
      "review_scores_rating                            7233 non-null float64\n",
      "review_scores_accuracy                          7233 non-null float64\n",
      "review_scores_cleanliness                       7233 non-null float64\n",
      "review_scores_checkin                           7233 non-null float64\n",
      "review_scores_communication                     7233 non-null float64\n",
      "review_scores_location                          7233 non-null float64\n",
      "review_scores_value                             7233 non-null float64\n",
      "requires_license                                7233 non-null bool\n",
      "instant_bookable                                7233 non-null bool\n",
      "is_business_travel_ready                        7233 non-null bool\n",
      "cancellation_policy                             7233 non-null object\n",
      "require_guest_profile_picture                   7233 non-null bool\n",
      "require_guest_phone_verification                7233 non-null bool\n",
      "calculated_host_listings_count                  7233 non-null int64\n",
      "calculated_host_listings_count_entire_homes     7233 non-null int64\n",
      "calculated_host_listings_count_private_rooms    7233 non-null int64\n",
      "calculated_host_listings_count_shared_rooms     7233 non-null int64\n",
      "reviews_per_month                               7233 non-null float64\n",
      "dtypes: bool(11), float64(19), int64(18), object(10)\n",
      "memory usage: 2.7+ MB\n"
     ]
    }
   ],
   "source": [
    "# We drop rows with missing values\n",
    "df_clean.dropna(axis=0, inplace=True)\n",
    "\n",
    "# We check againg if any column has missing values\n",
    "df_clean.info()"
   ]
  },
  {
   "cell_type": "markdown",
   "metadata": {},
   "source": [
    "## Numerical variables\n",
    "\n",
    "Numerical variables after cleaning should be ready for the model."
   ]
  },
  {
   "cell_type": "code",
   "execution_count": 24,
   "metadata": {},
   "outputs": [],
   "source": [
    "num_df = df_clean.select_dtypes(include=['int64', 'float64', 'bool'])\n",
    "num_cols_lst = num_df.columns\n",
    "num_cols_lst= num_cols_lst.drop('price')"
   ]
  },
  {
   "cell_type": "code",
   "execution_count": 25,
   "metadata": {},
   "outputs": [],
   "source": [
    "df_num_cols = df_clean[num_cols_lst]"
   ]
  },
  {
   "cell_type": "markdown",
   "metadata": {},
   "source": [
    "#### Categorical variables\n",
    "\n",
    "Categorical variables should be converted to numeric."
   ]
  },
  {
   "cell_type": "code",
   "execution_count": 26,
   "metadata": {},
   "outputs": [
    {
     "data": {
      "text/plain": [
       "Index(['experiences_offered', 'host_response_time', 'neighbourhood_cleansed',\n",
       "       'neighbourhood_group_cleansed', 'market', 'country', 'property_type',\n",
       "       'room_type', 'bed_type', 'cancellation_policy'],\n",
       "      dtype='object')"
      ]
     },
     "execution_count": 26,
     "metadata": {},
     "output_type": "execute_result"
    }
   ],
   "source": [
    "cat_df = df_clean.select_dtypes(include=['object'])\n",
    "cat_cols_lst = cat_df.columns\n",
    "cat_cols_lst"
   ]
  },
  {
   "cell_type": "code",
   "execution_count": 27,
   "metadata": {},
   "outputs": [],
   "source": [
    "df_cat_cols = df_clean[cat_cols_lst]\n",
    "for var in  cat_cols_lst:\n",
    "    # for each cat add dummy var, drop original column\n",
    "    df_cat_cols = pd.concat([df_cat_cols.drop(var, axis=1), pd.get_dummies(df_cat_cols[var], prefix=var, prefix_sep='_', drop_first=True)], axis=1)"
   ]
  },
  {
   "cell_type": "code",
   "execution_count": 28,
   "metadata": {},
   "outputs": [
    {
     "name": "stdout",
     "output_type": "stream",
     "text": [
      "<class 'pandas.core.frame.DataFrame'>\n",
      "Int64Index: 7233 entries, 0 to 7232\n",
      "Columns: 144 entries, host_response_time_within a day to cancellation_policy_super_strict_60\n",
      "dtypes: uint8(144)\n",
      "memory usage: 1.0 MB\n"
     ]
    }
   ],
   "source": [
    "df_cat_cols.info()"
   ]
  },
  {
   "cell_type": "code",
   "execution_count": 29,
   "metadata": {},
   "outputs": [],
   "source": [
    "df_ready = pd.concat([df_num_cols, df_cat_cols], axis=1)"
   ]
  },
  {
   "cell_type": "markdown",
   "metadata": {},
   "source": [
    "## Descriptive Satistics"
   ]
  },
  {
   "cell_type": "code",
   "execution_count": 30,
   "metadata": {},
   "outputs": [
    {
     "data": {
      "image/png": "[encoded data removed]",
      "text/plain": [
       "<Figure size 864x504 with 1 Axes>"
      ]
     },
     "metadata": {
      "needs_background": "light"
     },
     "output_type": "display_data"
    }
   ],
   "source": [
    "neigbourhoods_by_price = df_listings.groupby('neighbourhood_group_cleansed')['price'].mean()\n",
    "neigbourhoods_by_price = neigbourhoods_by_price.nlargest(len(neigbourhoods_by_price))\n",
    "\n",
    "neigbourhoods_by_price.plot('bar', figsize=(12,7))\n",
    "plt.title('Neighbourhoods by average Airbnb listing price')\n",
    "plt.xlabel('Neighbourhood')\n",
    "plt.ylabel('Average price ($)')\n",
    "plt.grid();"
   ]
  },
  {
   "cell_type": "code",
   "execution_count": 31,
   "metadata": {},
   "outputs": [
    {
     "data": {
      "image/png": "[encoded data removed]",
      "text/plain": [
       "<Figure size 864x504 with 1 Axes>"
      ]
     },
     "metadata": {
      "needs_background": "light"
     },
     "output_type": "display_data"
    }
   ],
   "source": [
    "totals_by_neibourhood = df_listings.groupby('neighbourhood_group_cleansed')['id'].count()\n",
    "multiproperty_by_neighbourhood = df_listings.query('host_total_listings_count >= 2').groupby('neighbourhood_group_cleansed')['id'].count()\n",
    "proportion = multiproperty_by_neighbourhood/totals_by_neibourhood*100\n",
    "\n",
    "proportion = proportion.nlargest(len(proportion))\n",
    "\n",
    "proportion.plot('bar', figsize=(12,7))\n",
    "plt.title('Listings with hosts with more than one property')\n",
    "plt.xlabel('Neighbourhood')\n",
    "plt.ylabel('% of multiproperty host')\n",
    "plt.grid();"
   ]
  },
  {
   "cell_type": "markdown",
   "metadata": {},
   "source": [
    "## Model"
   ]
  },
  {
   "cell_type": "code",
   "execution_count": 32,
   "metadata": {},
   "outputs": [],
   "source": [
    "X = df_ready\n",
    "y = df_clean['price']"
   ]
  },
  {
   "cell_type": "code",
   "execution_count": 34,
   "metadata": {},
   "outputs": [
    {
     "data": {
      "image/png": "[encoded data removed]",
      "text/plain": [
       "<Figure size 432x288 with 1 Axes>"
      ]
     },
     "metadata": {
      "needs_background": "light"
     },
     "output_type": "display_data"
    }
   ],
   "source": [
    "#cutoffs here pertains to the number of missing values allowed in the used columns.\n",
    "#Therefore, lower values for the cutoff provides more predictors in the model.\n",
    "cutoffs = [7000, 5000, 3500, 2500, 1000, 500, 100, 50, 25]\n",
    "\n",
    "r2_scores_test, r2_scores_train, lm_model, X_train, X_test, y_train, y_test = find_optimal_lm_mod(X, y, cutoffs, test_size =.4)"
   ]
  },
  {
   "cell_type": "markdown",
   "metadata": {},
   "source": [
    "## Evaluation"
   ]
  },
  {
   "cell_type": "code",
   "execution_count": 35,
   "metadata": {},
   "outputs": [
    {
     "data": {
      "text/plain": [
       "'The r-squared score for the model is 0.07505600360288411 on 2894 values.'"
      ]
     },
     "execution_count": 35,
     "metadata": {},
     "output_type": "execute_result"
    }
   ],
   "source": [
    "#Predict and score the model\n",
    "y_test_preds = lm_model.predict(X_test) \n",
    "\"The r-squared score for the model is {} on {} values.\".format(r2_score(y_test, y_test_preds), len(y_test))"
   ]
  },
  {
   "cell_type": "code",
   "execution_count": 36,
   "metadata": {},
   "outputs": [
    {
     "data": {
      "text/html": [
       "<div>\n",
       "<style scoped>\n",
       "    .dataframe tbody tr th:only-of-type {\n",
       "        vertical-align: middle;\n",
       "    }\n",
       "\n",
       "    .dataframe tbody tr th {\n",
       "        vertical-align: top;\n",
       "    }\n",
       "\n",
       "    .dataframe thead th {\n",
       "        text-align: right;\n",
       "    }\n",
       "</style>\n",
       "<table border=\"1\" class=\"dataframe\">\n",
       "  <thead>\n",
       "    <tr style=\"text-align: right;\">\n",
       "      <th></th>\n",
       "      <th>est_int</th>\n",
       "      <th>coefs</th>\n",
       "      <th>abs_coefs</th>\n",
       "    </tr>\n",
       "  </thead>\n",
       "  <tbody>\n",
       "    <tr>\n",
       "      <th>22</th>\n",
       "      <td>calendar_updated</td>\n",
       "      <td>-1.057169e+15</td>\n",
       "      <td>1.057169e+15</td>\n",
       "    </tr>\n",
       "    <tr>\n",
       "      <th>37</th>\n",
       "      <td>requires_license</td>\n",
       "      <td>-8.509468e+14</td>\n",
       "      <td>8.509468e+14</td>\n",
       "    </tr>\n",
       "    <tr>\n",
       "      <th>61</th>\n",
       "      <td>neighbourhood_cleansed_LA ROQUETA</td>\n",
       "      <td>3.956492e+14</td>\n",
       "      <td>3.956492e+14</td>\n",
       "    </tr>\n",
       "    <tr>\n",
       "      <th>52</th>\n",
       "      <td>neighbourhood_cleansed_EL BOTANIC</td>\n",
       "      <td>3.956492e+14</td>\n",
       "      <td>3.956492e+14</td>\n",
       "    </tr>\n",
       "    <tr>\n",
       "      <th>48</th>\n",
       "      <td>neighbourhood_cleansed_ARRANCAPINS</td>\n",
       "      <td>3.956492e+14</td>\n",
       "      <td>3.956492e+14</td>\n",
       "    </tr>\n",
       "    <tr>\n",
       "      <th>60</th>\n",
       "      <td>neighbourhood_cleansed_LA PETXINA</td>\n",
       "      <td>3.956492e+14</td>\n",
       "      <td>3.956492e+14</td>\n",
       "    </tr>\n",
       "    <tr>\n",
       "      <th>77</th>\n",
       "      <td>neighbourhood_group_cleansed_EXTRAMURS</td>\n",
       "      <td>-3.956492e+14</td>\n",
       "      <td>3.956492e+14</td>\n",
       "    </tr>\n",
       "    <tr>\n",
       "      <th>23</th>\n",
       "      <td>has_availability</td>\n",
       "      <td>-3.598683e+14</td>\n",
       "      <td>3.598683e+14</td>\n",
       "    </tr>\n",
       "    <tr>\n",
       "      <th>75</th>\n",
       "      <td>neighbourhood_group_cleansed_CIUTAT VELLA</td>\n",
       "      <td>1.056058e+14</td>\n",
       "      <td>1.056058e+14</td>\n",
       "    </tr>\n",
       "    <tr>\n",
       "      <th>56</th>\n",
       "      <td>neighbourhood_cleansed_EL PILAR</td>\n",
       "      <td>-1.056058e+14</td>\n",
       "      <td>1.056058e+14</td>\n",
       "    </tr>\n",
       "    <tr>\n",
       "      <th>63</th>\n",
       "      <td>neighbourhood_cleansed_LA XEREA</td>\n",
       "      <td>-1.056058e+14</td>\n",
       "      <td>1.056058e+14</td>\n",
       "    </tr>\n",
       "    <tr>\n",
       "      <th>55</th>\n",
       "      <td>neighbourhood_cleansed_EL MERCAT</td>\n",
       "      <td>-1.056058e+14</td>\n",
       "      <td>1.056058e+14</td>\n",
       "    </tr>\n",
       "    <tr>\n",
       "      <th>70</th>\n",
       "      <td>neighbourhood_cleansed_SANT FRANCESC</td>\n",
       "      <td>-1.056058e+14</td>\n",
       "      <td>1.056058e+14</td>\n",
       "    </tr>\n",
       "    <tr>\n",
       "      <th>62</th>\n",
       "      <td>neighbourhood_cleansed_LA SEU</td>\n",
       "      <td>-1.056058e+14</td>\n",
       "      <td>1.056058e+14</td>\n",
       "    </tr>\n",
       "    <tr>\n",
       "      <th>53</th>\n",
       "      <td>neighbourhood_cleansed_EL CARME</td>\n",
       "      <td>-1.056058e+14</td>\n",
       "      <td>1.056058e+14</td>\n",
       "    </tr>\n",
       "    <tr>\n",
       "      <th>3</th>\n",
       "      <td>host_total_listings_count</td>\n",
       "      <td>-8.096512e+12</td>\n",
       "      <td>8.096512e+12</td>\n",
       "    </tr>\n",
       "    <tr>\n",
       "      <th>2</th>\n",
       "      <td>host_listings_count</td>\n",
       "      <td>8.096512e+12</td>\n",
       "      <td>8.096512e+12</td>\n",
       "    </tr>\n",
       "    <tr>\n",
       "      <th>0</th>\n",
       "      <td>host_response_rate</td>\n",
       "      <td>-1.764375e+02</td>\n",
       "      <td>1.764375e+02</td>\n",
       "    </tr>\n",
       "    <tr>\n",
       "      <th>47</th>\n",
       "      <td>host_response_time_within an hour</td>\n",
       "      <td>1.548142e+02</td>\n",
       "      <td>1.548142e+02</td>\n",
       "    </tr>\n",
       "    <tr>\n",
       "      <th>46</th>\n",
       "      <td>host_response_time_within a few hours</td>\n",
       "      <td>1.315512e+02</td>\n",
       "      <td>1.315512e+02</td>\n",
       "    </tr>\n",
       "    <tr>\n",
       "      <th>45</th>\n",
       "      <td>host_response_time_within a day</td>\n",
       "      <td>1.181640e+02</td>\n",
       "      <td>1.181640e+02</td>\n",
       "    </tr>\n",
       "    <tr>\n",
       "      <th>71</th>\n",
       "      <td>neighbourhood_group_cleansed_BENICALAP</td>\n",
       "      <td>-6.543838e+01</td>\n",
       "      <td>6.543838e+01</td>\n",
       "    </tr>\n",
       "    <tr>\n",
       "      <th>91</th>\n",
       "      <td>property_type_Loft</td>\n",
       "      <td>-6.464748e+01</td>\n",
       "      <td>6.464748e+01</td>\n",
       "    </tr>\n",
       "    <tr>\n",
       "      <th>49</th>\n",
       "      <td>neighbourhood_cleansed_BENICALAP</td>\n",
       "      <td>6.151862e+01</td>\n",
       "      <td>6.151862e+01</td>\n",
       "    </tr>\n",
       "    <tr>\n",
       "      <th>65</th>\n",
       "      <td>neighbourhood_cleansed_MONT-OLIVET</td>\n",
       "      <td>5.955265e+01</td>\n",
       "      <td>5.955265e+01</td>\n",
       "    </tr>\n",
       "  </tbody>\n",
       "</table>\n",
       "</div>"
      ],
      "text/plain": [
       "                                      est_int         coefs     abs_coefs\n",
       "22                           calendar_updated -1.057169e+15  1.057169e+15\n",
       "37                           requires_license -8.509468e+14  8.509468e+14\n",
       "61          neighbourhood_cleansed_LA ROQUETA  3.956492e+14  3.956492e+14\n",
       "52          neighbourhood_cleansed_EL BOTANIC  3.956492e+14  3.956492e+14\n",
       "48         neighbourhood_cleansed_ARRANCAPINS  3.956492e+14  3.956492e+14\n",
       "60          neighbourhood_cleansed_LA PETXINA  3.956492e+14  3.956492e+14\n",
       "77     neighbourhood_group_cleansed_EXTRAMURS -3.956492e+14  3.956492e+14\n",
       "23                           has_availability -3.598683e+14  3.598683e+14\n",
       "75  neighbourhood_group_cleansed_CIUTAT VELLA  1.056058e+14  1.056058e+14\n",
       "56            neighbourhood_cleansed_EL PILAR -1.056058e+14  1.056058e+14\n",
       "63            neighbourhood_cleansed_LA XEREA -1.056058e+14  1.056058e+14\n",
       "55           neighbourhood_cleansed_EL MERCAT -1.056058e+14  1.056058e+14\n",
       "70       neighbourhood_cleansed_SANT FRANCESC -1.056058e+14  1.056058e+14\n",
       "62              neighbourhood_cleansed_LA SEU -1.056058e+14  1.056058e+14\n",
       "53            neighbourhood_cleansed_EL CARME -1.056058e+14  1.056058e+14\n",
       "3                   host_total_listings_count -8.096512e+12  8.096512e+12\n",
       "2                         host_listings_count  8.096512e+12  8.096512e+12\n",
       "0                          host_response_rate -1.764375e+02  1.764375e+02\n",
       "47          host_response_time_within an hour  1.548142e+02  1.548142e+02\n",
       "46      host_response_time_within a few hours  1.315512e+02  1.315512e+02\n",
       "45            host_response_time_within a day  1.181640e+02  1.181640e+02\n",
       "71     neighbourhood_group_cleansed_BENICALAP -6.543838e+01  6.543838e+01\n",
       "91                         property_type_Loft -6.464748e+01  6.464748e+01\n",
       "49           neighbourhood_cleansed_BENICALAP  6.151862e+01  6.151862e+01\n",
       "65         neighbourhood_cleansed_MONT-OLIVET  5.955265e+01  5.955265e+01"
      ]
     },
     "execution_count": 36,
     "metadata": {},
     "output_type": "execute_result"
    }
   ],
   "source": [
    "coef_df = coef_weights(lm_model, X_train)\n",
    "coef_df.head(25)"
   ]
  },
  {
   "cell_type": "markdown",
   "metadata": {},
   "source": [
    "## Deployment"
   ]
  },
  {
   "cell_type": "markdown",
   "metadata": {},
   "source": [
    "This analysis will be used soon in a blog post in order to share this findings with the world"
   ]
  }
 ],
 "metadata": {
  "kernelspec": {
   "display_name": "Python 3",
   "language": "python",
   "name": "python3"
  },
  "language_info": {
   "codemirror_mode": {
    "name": "ipython",
    "version": 3
   },
   "file_extension": ".py",
   "mimetype": "text/x-python",
   "name": "python",
   "nbconvert_exporter": "python",
   "pygments_lexer": "ipython3",
   "version": "3.7.3"
  }
 },
 "nbformat": 4,
 "nbformat_minor": 2
}
